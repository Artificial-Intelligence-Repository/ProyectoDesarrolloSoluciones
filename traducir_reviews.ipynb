{
 "cells": [
  {
   "cell_type": "code",
   "execution_count": 48,
   "metadata": {},
   "outputs": [
    {
     "data": {
      "text/plain": [
       "True"
      ]
     },
     "execution_count": 48,
     "metadata": {},
     "output_type": "execute_result"
    }
   ],
   "source": [
    "import pandas as pd\n",
    "import os\n",
    "import numpy as np\n",
    "from dotenv import load_dotenv\n",
    "\n",
    "import time\n",
    "#!pip install tenacity\n",
    "from tenacity import retry, stop_after_attempt, wait_exponential\n",
    "\n",
    "#!pip install anthropic\n",
    "import anthropic\n",
    "\n",
    "load_dotenv()"
   ]
  },
  {
   "cell_type": "code",
   "execution_count": 38,
   "metadata": {},
   "outputs": [],
   "source": [
    "os.chdir(r\"C:\\Users\\aeveg\\OneDrive\\Documentos\\MASTERS\\Proyecto\\Proyecto de Materia\\ProyectoDesarrolloSoluciones\")"
   ]
  },
  {
   "cell_type": "code",
   "execution_count": 39,
   "metadata": {},
   "outputs": [],
   "source": [
    "def load_imdb_reviews(ruta_archivo):\n",
    "    # Lee el archivo CSV y lo guarda en un DataFrame\n",
    "    df = pd.read_csv(ruta_archivo)    \n",
    "    return df"
   ]
  },
  {
   "cell_type": "code",
   "execution_count": 40,
   "metadata": {},
   "outputs": [
    {
     "name": "stdout",
     "output_type": "stream",
     "text": [
      "\n",
      "Primeras 5 filas del dataset de entrenamiento de reseñas de IMDB:\n"
     ]
    },
    {
     "data": {
      "text/html": [
       "<div>\n",
       "<style scoped>\n",
       "    .dataframe tbody tr th:only-of-type {\n",
       "        vertical-align: middle;\n",
       "    }\n",
       "\n",
       "    .dataframe tbody tr th {\n",
       "        vertical-align: top;\n",
       "    }\n",
       "\n",
       "    .dataframe thead th {\n",
       "        text-align: right;\n",
       "    }\n",
       "</style>\n",
       "<table border=\"1\" class=\"dataframe\">\n",
       "  <thead>\n",
       "    <tr style=\"text-align: right;\">\n",
       "      <th></th>\n",
       "      <th>review</th>\n",
       "      <th>sentiment</th>\n",
       "    </tr>\n",
       "  </thead>\n",
       "  <tbody>\n",
       "    <tr>\n",
       "      <th>0</th>\n",
       "      <td>In Panic In The Streets Richard Widmark plays ...</td>\n",
       "      <td>1</td>\n",
       "    </tr>\n",
       "    <tr>\n",
       "      <th>1</th>\n",
       "      <td>If you ask me the first one was really better ...</td>\n",
       "      <td>0</td>\n",
       "    </tr>\n",
       "    <tr>\n",
       "      <th>2</th>\n",
       "      <td>I am a big fan a Faerie Tale Theatre and I've ...</td>\n",
       "      <td>1</td>\n",
       "    </tr>\n",
       "    <tr>\n",
       "      <th>3</th>\n",
       "      <td>I just finished reading a book about Dillinger...</td>\n",
       "      <td>0</td>\n",
       "    </tr>\n",
       "    <tr>\n",
       "      <th>4</th>\n",
       "      <td>Greg Davis and Bryan Daly take some crazed sta...</td>\n",
       "      <td>0</td>\n",
       "    </tr>\n",
       "  </tbody>\n",
       "</table>\n",
       "</div>"
      ],
      "text/plain": [
       "                                              review  sentiment\n",
       "0  In Panic In The Streets Richard Widmark plays ...          1\n",
       "1  If you ask me the first one was really better ...          0\n",
       "2  I am a big fan a Faerie Tale Theatre and I've ...          1\n",
       "3  I just finished reading a book about Dillinger...          0\n",
       "4  Greg Davis and Bryan Daly take some crazed sta...          0"
      ]
     },
     "execution_count": 40,
     "metadata": {},
     "output_type": "execute_result"
    }
   ],
   "source": [
    "df_train = load_imdb_reviews('./data/imdb_reviews_train.csv')\n",
    "print(\"\\nPrimeras 5 filas del dataset de entrenamiento de reseñas de IMDB:\")\n",
    "df_train.head()"
   ]
  },
  {
   "cell_type": "code",
   "execution_count": 41,
   "metadata": {},
   "outputs": [
    {
     "name": "stdout",
     "output_type": "stream",
     "text": [
      "\n",
      "Primeras 5 filas del dataset de pruebas de reseñas de IMDB:\n"
     ]
    },
    {
     "data": {
      "text/html": [
       "<div>\n",
       "<style scoped>\n",
       "    .dataframe tbody tr th:only-of-type {\n",
       "        vertical-align: middle;\n",
       "    }\n",
       "\n",
       "    .dataframe tbody tr th {\n",
       "        vertical-align: top;\n",
       "    }\n",
       "\n",
       "    .dataframe thead th {\n",
       "        text-align: right;\n",
       "    }\n",
       "</style>\n",
       "<table border=\"1\" class=\"dataframe\">\n",
       "  <thead>\n",
       "    <tr style=\"text-align: right;\">\n",
       "      <th></th>\n",
       "      <th>review</th>\n",
       "      <th>sentiment</th>\n",
       "    </tr>\n",
       "  </thead>\n",
       "  <tbody>\n",
       "    <tr>\n",
       "      <th>0</th>\n",
       "      <td>When I was a kid, I loved \"Tiny Toons\". I espe...</td>\n",
       "      <td>1</td>\n",
       "    </tr>\n",
       "    <tr>\n",
       "      <th>1</th>\n",
       "      <td>The setup for \"Nature of the Beast\" is ingenio...</td>\n",
       "      <td>0</td>\n",
       "    </tr>\n",
       "    <tr>\n",
       "      <th>2</th>\n",
       "      <td>I do not have much to say than this is a great...</td>\n",
       "      <td>1</td>\n",
       "    </tr>\n",
       "    <tr>\n",
       "      <th>3</th>\n",
       "      <td>Extremely formulaic with cosmic-sized logic ho...</td>\n",
       "      <td>0</td>\n",
       "    </tr>\n",
       "    <tr>\n",
       "      <th>4</th>\n",
       "      <td>I actually liked certain things about this gam...</td>\n",
       "      <td>0</td>\n",
       "    </tr>\n",
       "  </tbody>\n",
       "</table>\n",
       "</div>"
      ],
      "text/plain": [
       "                                              review  sentiment\n",
       "0  When I was a kid, I loved \"Tiny Toons\". I espe...          1\n",
       "1  The setup for \"Nature of the Beast\" is ingenio...          0\n",
       "2  I do not have much to say than this is a great...          1\n",
       "3  Extremely formulaic with cosmic-sized logic ho...          0\n",
       "4  I actually liked certain things about this gam...          0"
      ]
     },
     "execution_count": 41,
     "metadata": {},
     "output_type": "execute_result"
    }
   ],
   "source": [
    "df_test = load_imdb_reviews('./data/imdb_reviews_test.csv')\n",
    "print(\"\\nPrimeras 5 filas del dataset de pruebas de reseñas de IMDB:\")\n",
    "df_test.head()"
   ]
  },
  {
   "cell_type": "code",
   "execution_count": null,
   "metadata": {},
   "outputs": [],
   "source": [
    "@retry(stop=stop_after_attempt(5), \n",
    "       wait=wait_exponential(multiplier=1, min=4, max=60),\n",
    "       before_sleep=lambda retry_state: print(f\"Intento de traducción {retry_state.attempt_number} falló, reintentando en {retry_state.next_action.sleep} segundos...\"))\n",
    "def translate_single_review(client, review):\n",
    "    prompt = f\"Translate the following English review to Spanish. Only return the translation, nothing else: {review}\"\n",
    "    \n",
    "    message = client.messages.create(\n",
    "        model=\"claude-3-5-haiku-20241022\",\n",
    "        max_tokens=1024,\n",
    "        messages=[\n",
    "            {\"role\": \"user\", \"content\": prompt}\n",
    "        ]\n",
    "    )\n",
    "    return message.content[0].text\n",
    "\n",
    "def traducir_reviews(dataframe):\n",
    "    # Create new empty DataFrame with same columns \n",
    "    df_translated = pd.DataFrame(columns=['review', 'sentiment'])\n",
    "\n",
    "    client = anthropic.Anthropic(\n",
    "        api_key=os.environ.get(\"ANTHROPIC_API_KEY\"),\n",
    "    )\n",
    "\n",
    "    # Iterate through original DataFrame\n",
    "    for index, row in dataframe.iterrows():\n",
    "        if index % 100 == 0:\n",
    "            print(f\"Traduciendo reseña {index+1} de {len(dataframe)}\")\n",
    "            \n",
    "        try:\n",
    "            # Try to translate with retries\n",
    "            translated_review = translate_single_review(client, row['review'])\n",
    "            \n",
    "            # Add new row to translated DataFrame\n",
    "            new_row = pd.DataFrame({\n",
    "                'review': [translated_review],\n",
    "                'sentiment': [row['sentiment']]\n",
    "            })\n",
    "            df_translated = pd.concat([df_translated, new_row], ignore_index=True)\n",
    "            \n",
    "        except Exception as e:\n",
    "            print(f\"Error al traducir reseña {index+1}: {str(e)}\")\n",
    "            \n",
    "    return df_translated"
   ]
  },
  {
   "cell_type": "code",
   "execution_count": 51,
   "metadata": {},
   "outputs": [
    {
     "name": "stdout",
     "output_type": "stream",
     "text": [
      "Traduciendo reseña 1 de 5\n",
      "                                              review sentiment\n",
      "0  En Pánico en las Calles, Richard Widmark inter...         1\n",
      "1  Si me preguntas, la primera era realmente mejo...         0\n",
      "2  Soy un gran fan de Faerie Tale Theatre y los h...         1\n",
      "3  Acabo de terminar de leer un libro sobre Dilli...         0\n",
      "4  Greg Davis y Bryan Daly toman algunas declarac...         0\n"
     ]
    }
   ],
   "source": [
    "df_train_translated = traducir_reviews(df_train[:5])\n",
    "print(df_train_translated.head())"
   ]
  },
  {
   "cell_type": "code",
   "execution_count": 52,
   "metadata": {},
   "outputs": [
    {
     "name": "stdout",
     "output_type": "stream",
     "text": [
      "dataset de entrenamiento traducido a español\n"
     ]
    }
   ],
   "source": [
    "df_train_translated.to_csv('data/imdb_reviews_train_espanol.csv', index=False)\n",
    "print('dataset de entrenamiento traducido a español')"
   ]
  },
  {
   "cell_type": "code",
   "execution_count": 53,
   "metadata": {},
   "outputs": [
    {
     "name": "stdout",
     "output_type": "stream",
     "text": [
      "Traduciendo reseña 1 de 5\n",
      "                                              review sentiment\n",
      "0  Cuando era niño, me encantaban los \"Tiny Toons...         1\n",
      "1  La configuración de \"Nature of the Beast\" es i...         0\n",
      "2  No tengo mucho que decir más que este es un gr...         1\n",
      "3  Extremadamente formulaico con agujeros lógicos...         0\n",
      "4  En realidad me gustaron ciertas cosas de este ...         0\n"
     ]
    }
   ],
   "source": [
    "df_test_translated = traducir_reviews(df_test[:5])\n",
    "print(df_test_translated.head())"
   ]
  },
  {
   "cell_type": "code",
   "execution_count": 54,
   "metadata": {},
   "outputs": [
    {
     "name": "stdout",
     "output_type": "stream",
     "text": [
      "dataset de pruebas traducido a español\n"
     ]
    }
   ],
   "source": [
    "df_test_translated.to_csv('data/imdb_reviews_test_espanol.csv', index=False)\n",
    "print('dataset de pruebas traducido a español')"
   ]
  }
 ],
 "metadata": {
  "kernelspec": {
   "display_name": "Python [conda env:base] *",
   "language": "python",
   "name": "conda-base-py"
  },
  "language_info": {
   "codemirror_mode": {
    "name": "ipython",
    "version": 3
   },
   "file_extension": ".py",
   "mimetype": "text/x-python",
   "name": "python",
   "nbconvert_exporter": "python",
   "pygments_lexer": "ipython3",
   "version": "3.12.7"
  }
 },
 "nbformat": 4,
 "nbformat_minor": 2
}
